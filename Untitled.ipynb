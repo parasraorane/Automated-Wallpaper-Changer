{
 "cells": [
  {
   "cell_type": "code",
   "execution_count": 26,
   "id": "c49725c3",
   "metadata": {},
   "outputs": [
    {
     "name": "stdout",
     "output_type": "stream",
     "text": [
      "['1045664.jpg', '1046401.jpg', '1586930761175.jpg', '1598421018544.jpg', '1624094779747.jpg', '1626289821960.jpg', '1630861028602.jpg', '31.jpg', '463383.jpg', '47.jpg', '67.jpg', 'aotsymbok.png', 'aotsymbol2.png', 'eren.jpg', 'galaxy.png', 'Greywolf.jpg', 'gtrneon.jpg', 'hod.jpg', 'IMG20220831162904.jpg', 'neon-ring-wallpaper.jpg', 'nismo.jpg', 'nissangtr.png', 'nissannismo.jpg', 'nissanskyline.jpg', 'rafale.jpg', 'sunrise.jpg']\n"
     ]
    },
    {
     "data": {
      "text/plain": [
       "1"
      ]
     },
     "execution_count": 26,
     "metadata": {},
     "output_type": "execute_result"
    }
   ],
   "source": [
    "import ctypes\n",
    "import numpy as np\n",
    "import os\n",
    "z=os.listdir(\"D:/Pictures/slideshow\")\n",
    "path=z[np.random.randint(len(z))]\n",
    "ctypes.windll.user32.SystemParametersInfoW(20, 0, \"D:/Pictures/slideshow/\"+path , 0)"
   ]
  }
 ],
 "metadata": {
  "kernelspec": {
   "display_name": "Python 3 (ipykernel)",
   "language": "python",
   "name": "python3"
  },
  "language_info": {
   "codemirror_mode": {
    "name": "ipython",
    "version": 3
   },
   "file_extension": ".py",
   "mimetype": "text/x-python",
   "name": "python",
   "nbconvert_exporter": "python",
   "pygments_lexer": "ipython3",
   "version": "3.9.13"
  }
 },
 "nbformat": 4,
 "nbformat_minor": 5
}
